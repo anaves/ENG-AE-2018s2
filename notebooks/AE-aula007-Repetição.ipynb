{
 "cells": [
  {
   "cell_type": "code",
   "execution_count": 1,
   "metadata": {},
   "outputs": [
    {
     "name": "stdout",
     "output_type": "stream",
     "text": [
      "1\n",
      "2\n",
      "3\n",
      "4\n"
     ]
    }
   ],
   "source": [
    "print(1)\n",
    "print(2)\n",
    "print(3)\n",
    "print(4)"
   ]
  },
  {
   "cell_type": "code",
   "execution_count": 2,
   "metadata": {},
   "outputs": [
    {
     "name": "stdout",
     "output_type": "stream",
     "text": [
      "1\n",
      "2\n"
     ]
    }
   ],
   "source": [
    "x = 1\n",
    "print(x)\n",
    "x = x + 1\n",
    "print(x)"
   ]
  },
  {
   "cell_type": "code",
   "execution_count": 4,
   "metadata": {},
   "outputs": [
    {
     "name": "stdout",
     "output_type": "stream",
     "text": [
      "1\n",
      "2\n",
      "3\n",
      "4\n",
      "5\n"
     ]
    }
   ],
   "source": [
    "x = 1             # inicializa a variável x\n",
    "while x <= 5:     # condição de parada do laço\n",
    "    print(x)      # impressão do valor da variável x\n",
    "    x = x + 1     # atualiza o valor de x"
   ]
  },
  {
   "cell_type": "code",
   "execution_count": 7,
   "metadata": {},
   "outputs": [
    {
     "name": "stdout",
     "output_type": "stream",
     "text": [
      "Digite o limite inferior: 3\n",
      "Digite o limite superior: 20\n",
      "4\n",
      "6\n",
      "8\n",
      "10\n",
      "12\n",
      "14\n",
      "16\n",
      "18\n",
      "20\n",
      "Acabou!\n"
     ]
    }
   ],
   "source": [
    "inf = int(input('Digite o limite inferior: '))\n",
    "sup = int(input('Digite o limite superior: '))\n",
    "v = inf\n",
    "while v <= sup:\n",
    "    if v%2 == 0:\n",
    "        print(v)\n",
    "    v = v + 1\n",
    "print('Acabou!')"
   ]
  },
  {
   "cell_type": "markdown",
   "metadata": {},
   "source": [
    "1. Faça um programa para exibir os números de 1 a 100"
   ]
  },
  {
   "cell_type": "markdown",
   "metadata": {},
   "source": [
    "2. Faça um programa para exibir os números de 50 a 100"
   ]
  },
  {
   "cell_type": "raw",
   "metadata": {},
   "source": [
    "3. Faça um programa para escrever a contagem regressiva do lançamento de um foguete. O programa deve imprimir: 10 9 8 7 6 5 4 3 2 1 0 e Fogo!"
   ]
  },
  {
   "cell_type": "markdown",
   "metadata": {},
   "source": [
    "4- Escreva um programa para calcular a tabuada de dado número: Ex: tabuada do 5\n",
    "5x0=0\n",
    "5x1=5\n",
    "...\n",
    "5x10=50"
   ]
  },
  {
   "cell_type": "markdown",
   "metadata": {},
   "source": [
    "5. Faça um programa que some os 10 primeiros números naturais:\n",
    "0 + 1 + 2 + 3 + 4 + 5 + 6 + 7 + 8 + 9\n",
    "\n",
    "6. Faça um programa que mostre somentes os números pares e mútiplos de 3 entre 1 e 1000. Ex: 6,12,18,24,...\n"
   ]
  },
  {
   "cell_type": "code",
   "execution_count": 4,
   "metadata": {},
   "outputs": [
    {
     "data": {
      "text/plain": [
       "0"
      ]
     },
     "execution_count": 4,
     "metadata": {},
     "output_type": "execute_result"
    }
   ],
   "source": [
    "6%2"
   ]
  },
  {
   "cell_type": "code",
   "execution_count": 1,
   "metadata": {},
   "outputs": [
    {
     "name": "stdout",
     "output_type": "stream",
     "text": [
      "0\n",
      "1\n",
      "2\n",
      "3\n",
      "4\n",
      "5\n",
      "6\n",
      "7\n",
      "8\n",
      "9\n"
     ]
    }
   ],
   "source": [
    "for valor in range(0,10):\n",
    "    print(valor)"
   ]
  },
  {
   "cell_type": "code",
   "execution_count": 3,
   "metadata": {},
   "outputs": [
    {
     "name": "stdout",
     "output_type": "stream",
     "text": [
      "0\n",
      "1\n",
      "2\n",
      "3\n",
      "4\n",
      "5\n",
      "6\n",
      "7\n",
      "8\n",
      "9\n"
     ]
    }
   ],
   "source": [
    "valor = 0\n",
    "while valor < 10:\n",
    "    print(valor)\n",
    "    valor = valor + 1"
   ]
  },
  {
   "cell_type": "code",
   "execution_count": 4,
   "metadata": {},
   "outputs": [
    {
     "name": "stdout",
     "output_type": "stream",
     "text": [
      "10\n",
      "11\n",
      "12\n",
      "13\n",
      "14\n",
      "15\n",
      "16\n",
      "17\n",
      "18\n",
      "19\n",
      "20\n",
      "21\n",
      "22\n",
      "23\n",
      "24\n",
      "25\n"
     ]
    }
   ],
   "source": [
    "for x in range(10,26):\n",
    "    print(x)"
   ]
  },
  {
   "cell_type": "code",
   "execution_count": 6,
   "metadata": {},
   "outputs": [
    {
     "name": "stdout",
     "output_type": "stream",
     "text": [
      "1- Somar dois números: \n",
      "2- Multiplicar dois números: \n",
      "3- Sair\n",
      "Opção: 3\n"
     ]
    }
   ],
   "source": [
    "op = 1\n",
    "while op != 3:\n",
    "    print('1- Somar dois números: ')\n",
    "    print('2- Multiplicar dois números: ')\n",
    "    print('3- Sair')\n",
    "    op = int(input('Opção: '))"
   ]
  },
  {
   "cell_type": "markdown",
   "metadata": {},
   "source": [
    "Exercício 7: (while) Faça um programa que receba a idade de várias pessoas, calcule quantas pessoas são maiores de idade. Encerre o programa quando a idade digitada for 0.\n",
    "\n",
    "Exercício 8: (for) Faça um programa que receba a idade de 5 pessoas, calcule quantas pessoas são maiores de idade. \n"
   ]
  },
  {
   "cell_type": "markdown",
   "metadata": {},
   "source": [
    "ENQUANTO"
   ]
  },
  {
   "cell_type": "code",
   "execution_count": 5,
   "metadata": {},
   "outputs": [
    {
     "name": "stdout",
     "output_type": "stream",
     "text": [
      "Olá\n",
      "Digite 5 ou maior que 10 para continuar... 5\n",
      "Olá\n",
      "Digite 5 ou maior que 10 para continuar... 11\n",
      "Olá\n",
      "Digite 5 ou maior que 10 para continuar... 10\n"
     ]
    }
   ],
   "source": [
    "numero = 5\n",
    "while numero == 5 or numero > 10:\n",
    "    print('Olá')\n",
    "    numero = int (input('Digite 5 ou maior que 10 para continuar... '))"
   ]
  },
  {
   "cell_type": "code",
   "execution_count": 9,
   "metadata": {},
   "outputs": [
    {
     "name": "stdout",
     "output_type": "stream",
     "text": [
      "1\n",
      "2\n",
      "3\n",
      "4\n",
      "5\n",
      "6\n",
      "7\n",
      "8\n",
      "9\n",
      "10\n"
     ]
    }
   ],
   "source": [
    "for it in range(1,11):\n",
    "    print(it)"
   ]
  },
  {
   "cell_type": "code",
   "execution_count": 7,
   "metadata": {},
   "outputs": [
    {
     "name": "stdout",
     "output_type": "stream",
     "text": [
      "10\n",
      "11\n",
      "12\n",
      "13\n",
      "14\n",
      "15\n",
      "16\n",
      "17\n"
     ]
    }
   ],
   "source": [
    "for it in range(10,18):\n",
    "    print(it)"
   ]
  },
  {
   "cell_type": "code",
   "execution_count": 8,
   "metadata": {},
   "outputs": [
    {
     "name": "stdout",
     "output_type": "stream",
     "text": [
      "0\n",
      "1\n",
      "2\n",
      "3\n",
      "4\n",
      "5\n",
      "6\n",
      "7\n",
      "8\n",
      "9\n"
     ]
    }
   ],
   "source": [
    "for it in range(10):\n",
    "    print(it)"
   ]
  },
  {
   "cell_type": "code",
   "execution_count": 14,
   "metadata": {},
   "outputs": [
    {
     "name": "stdout",
     "output_type": "stream",
     "text": [
      "0\n",
      "2\n",
      "4\n",
      "6\n",
      "8\n",
      "10\n",
      "12\n",
      "14\n",
      "16\n",
      "18\n",
      "20\n",
      "22\n",
      "24\n",
      "26\n",
      "28\n",
      "30\n",
      "32\n",
      "34\n",
      "36\n",
      "38\n",
      "40\n",
      "42\n",
      "44\n",
      "46\n",
      "48\n"
     ]
    }
   ],
   "source": [
    "for it in range(0,50,2):\n",
    "    print(it)"
   ]
  },
  {
   "cell_type": "code",
   "execution_count": 18,
   "metadata": {},
   "outputs": [
    {
     "name": "stdout",
     "output_type": "stream",
     "text": [
      "30\n",
      "25\n",
      "20\n",
      "15\n",
      "10\n",
      "5\n",
      "0\n"
     ]
    }
   ],
   "source": [
    "for x in range(30,-1,-5):\n",
    "    print(x)"
   ]
  },
  {
   "cell_type": "code",
   "execution_count": null,
   "metadata": {},
   "outputs": [],
   "source": [
    "y = 30\n",
    "while y >= 0:\n",
    "    print(y)\n",
    "    y = y - 5"
   ]
  },
  {
   "cell_type": "code",
   "execution_count": 1,
   "metadata": {},
   "outputs": [
    {
     "name": "stdout",
     "output_type": "stream",
     "text": [
      "ola\n",
      "Deseja executar novamente: sim ou nãosim\n",
      "ola\n",
      "Deseja executar novamente: sim ou nãosim\n",
      "ola\n",
      "Deseja executar novamente: sim ou nãosim\n",
      "ola\n",
      "Deseja executar novamente: sim ou nãonão\n"
     ]
    }
   ],
   "source": [
    "opcao = 'sim'\n",
    "while opcao == 'sim':\n",
    "    # processamento\n",
    "    print('ola')\n",
    "    opcao = input('Deseja executar novamente: sim ou não')\n",
    "    "
   ]
  },
  {
   "cell_type": "markdown",
   "metadata": {},
   "source": [
    "Faça "
   ]
  }
 ],
 "metadata": {
  "kernelspec": {
   "display_name": "Python 3",
   "language": "python",
   "name": "python3"
  },
  "language_info": {
   "codemirror_mode": {
    "name": "ipython",
    "version": 3
   },
   "file_extension": ".py",
   "mimetype": "text/x-python",
   "name": "python",
   "nbconvert_exporter": "python",
   "pygments_lexer": "ipython3",
   "version": "3.6.5"
  }
 },
 "nbformat": 4,
 "nbformat_minor": 2
}
