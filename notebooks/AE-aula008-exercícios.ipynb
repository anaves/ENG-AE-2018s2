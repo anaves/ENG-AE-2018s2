{
 "cells": [
  {
   "cell_type": "markdown",
   "metadata": {},
   "source": [
    "Exercícios - estruturas de repetição"
   ]
  },
  {
   "cell_type": "raw",
   "metadata": {},
   "source": [
    "1- Um funcionário de uma empresa recebe, anualmente, aumento salarial. Sabe-se que:\n",
    "a) Esse funcionário foi contratado em 2010, com salário inicial de R$ 1.000,00\n",
    "b) Em 2011, ele recebeu aumento de 1,5% sobre seu salário inicial.\n",
    "c) A partir de 2012 (inclusive), os aumentos salariais sempre corresponderam ao dobro do percentual do ano anterior.\n",
    "Faça um programa que determine o salário atual desse funcionário."
   ]
  },
  {
   "cell_type": "code",
   "execution_count": 11,
   "metadata": {},
   "outputs": [
    {
     "name": "stdout",
     "output_type": "stream",
     "text": [
      "2010 - R$ 1000.0\n",
      "2011 - R$ 1015.0 - taxa: 1.5\n",
      "2012 - R$ 1045.45 - taxa: 3.0\n",
      "2013 - R$ 1108.1770000000001 - taxa: 6.0\n",
      "2014 - R$ 1241.1582400000002 - taxa: 12.0\n",
      "2015 - R$ 1539.0362176000003 - taxa: 24.0\n",
      "2016 - R$ 2277.7736020480006 - taxa: 48.0\n",
      "2017 - R$ 4464.436260014081 - taxa: 96.0\n",
      "2018 - R$ 13036.153879241117 - taxa: 192.0\n"
     ]
    }
   ],
   "source": [
    "# 2010\n",
    "salario = 1000.0\n",
    "print('2010 - R$ {}'.format(salario))\n",
    "# 2011\n",
    "taxa = 1.5\n",
    "aumento = (salario*taxa)/100.0\n",
    "salarioAtual = salario+aumento\n",
    "print('2011 - R$ {} - taxa: {}'.format(salarioAtual,taxa))\n",
    "for ano in range(2012,2019):\n",
    "    taxa = taxa*2\n",
    "    aumento = salarioAtual*taxa/100\n",
    "    salarioAtual = salarioAtual + aumento\n",
    "    print('{} - R$ {} - taxa: {}'.format(ano,salarioAtual,taxa))"
   ]
  },
  {
   "cell_type": "raw",
   "metadata": {},
   "source": [
    "Entregar somente exercício até dia 22/11 - 10 pontos\n",
    "2- Faça um programa que receba um número inteiro maior que 1, verifique se o número fornecido é primo ou não e mostre uma mensagem de número primo ou de número não primo.\n",
    "Dica: um número é primo quando é divisível apenas por 1 e por ele mesmo. Use o resto da divisão para verificar isto. Ex: 7%4 é 3, um número é divisível pelo outro quando o resto da divisão é 0."
   ]
  },
  {
   "cell_type": "code",
   "execution_count": 1,
   "metadata": {},
   "outputs": [
    {
     "data": {
      "text/plain": [
       "0.015"
      ]
     },
     "execution_count": 1,
     "metadata": {},
     "output_type": "execute_result"
    }
   ],
   "source": [
    "1.5/100\n"
   ]
  },
  {
   "cell_type": "code",
   "execution_count": null,
   "metadata": {},
   "outputs": [],
   "source": []
  }
 ],
 "metadata": {
  "kernelspec": {
   "display_name": "Python 3",
   "language": "python",
   "name": "python3"
  },
  "language_info": {
   "codemirror_mode": {
    "name": "ipython",
    "version": 3
   },
   "file_extension": ".py",
   "mimetype": "text/x-python",
   "name": "python",
   "nbconvert_exporter": "python",
   "pygments_lexer": "ipython3",
   "version": "3.6.5"
  }
 },
 "nbformat": 4,
 "nbformat_minor": 2
}
