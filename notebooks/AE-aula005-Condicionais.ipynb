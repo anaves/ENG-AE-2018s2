{
 "cells": [
  {
   "cell_type": "markdown",
   "metadata": {},
   "source": [
    "# Condicionais"
   ]
  },
  {
   "cell_type": "markdown",
   "metadata": {},
   "source": [
    "if - se"
   ]
  },
  {
   "cell_type": "code",
   "execution_count": null,
   "metadata": {},
   "outputs": [],
   "source": [
    "a = int(input('Digite um valor: '))\n",
    "if a > 10:\n",
    "    # executa dentro do if somente quando a for maior do que 10\n",
    "    print('Valor maior do que 10')\n",
    "# sai de dentro da condição\n",
    "print('Acabou')"
   ]
  },
  {
   "cell_type": "code",
   "execution_count": null,
   "metadata": {},
   "outputs": [],
   "source": [
    "b = int(input('Digite um valor: '))\n",
    "if b>10:\n",
    "    # quando a condição for VERDADEIRA\n",
    "    print('valor MAIOR do que 10')\n",
    "else: \n",
    "    # quando a condição b>10 for FALSA\n",
    "    print('valor MENOR do que 10')\n",
    "\n",
    "# sempre executa a mensagem abaixo\n",
    "print('Acabou')"
   ]
  },
  {
   "cell_type": "code",
   "execution_count": null,
   "metadata": {},
   "outputs": [],
   "source": [
    "# entrada de dados\n",
    "numero1 = float(input('Digite o 1º valor: '))\n",
    "numero2 = float(input('Digite o 2º valor: '))\n",
    "\n",
    "if numero1 > numero2:\n",
    "    print('{} é maior do que {}'.format(numero1, numero2))\n",
    "else:\n",
    "    print('{} é menor ou igual a {}'.format(numero1,numero2 ))"
   ]
  },
  {
   "cell_type": "markdown",
   "metadata": {},
   "source": [
    "Exercício 1: Escreva um programa que pergunte a idade da pessoa e em seguida seu programa deverá informar se o usuário é maior de idade ou não."
   ]
  },
  {
   "cell_type": "code",
   "execution_count": null,
   "metadata": {},
   "outputs": [],
   "source": [
    "idade = int(input('Digite a idade: '))\n",
    "\n",
    "if idade >= 18:\n",
    "    # quando condição avaliada for VERDADE\n",
    "    print('Você é maior de idade')\n",
    "else:\n",
    "    # quando condição avaliada for FALSA\n",
    "    print('Você é menor de idade')"
   ]
  },
  {
   "cell_type": "markdown",
   "metadata": {},
   "source": [
    "Exercício 2: Escreva um programa que pergunte a velocidade do carro de um usuário. Caso ultrapasse 80 km/h, exiba uma mensagem dizendo que o usuário foi multado. Nesse caso, exiba o valor da multa, cobrando R$ 5,00 por km acima de 80 km/h."
   ]
  },
  {
   "cell_type": "code",
   "execution_count": null,
   "metadata": {},
   "outputs": [],
   "source": [
    "velocidade = float(input('Digite a velocidade: '))\n",
    "\n",
    "if velocidade > 80:\n",
    "    print('Você foi multado(a)')\n",
    "    excesso = velocidade - 80\n",
    "    multa = excesso*5\n",
    "    print('Você ultrapassou {} km/h'.format(excesso))\n",
    "    print('A multa é de R$ {}'.format(multa))"
   ]
  },
  {
   "cell_type": "markdown",
   "metadata": {},
   "source": [
    "# Condicional simples"
   ]
  },
  {
   "cell_type": "markdown",
   "metadata": {},
   "source": [
    "if condicao:\n",
    "    # só é executando quando a condição é verdadeira\n",
    "    # a condição é verdadeira ou falsa"
   ]
  },
  {
   "cell_type": "markdown",
   "metadata": {},
   "source": [
    "% devolve o resto da divisão"
   ]
  },
  {
   "cell_type": "code",
   "execution_count": null,
   "metadata": {},
   "outputs": [],
   "source": [
    "resto = 2%2"
   ]
  },
  {
   "cell_type": "code",
   "execution_count": null,
   "metadata": {},
   "outputs": [],
   "source": [
    "print(resto)"
   ]
  },
  {
   "cell_type": "code",
   "execution_count": null,
   "metadata": {},
   "outputs": [],
   "source": [
    "print(3%2)"
   ]
  },
  {
   "cell_type": "code",
   "execution_count": null,
   "metadata": {},
   "outputs": [],
   "source": [
    "print(8%2)"
   ]
  },
  {
   "cell_type": "markdown",
   "metadata": {},
   "source": [
    "# Condicional composta"
   ]
  },
  {
   "cell_type": "markdown",
   "metadata": {},
   "source": [
    "if condicao:\n",
    "    # executa quando a condição é verdadeira\n",
    "else:\n",
    "    # o que estiver neste bloco somente é executado quando a condição é falsa"
   ]
  },
  {
   "cell_type": "markdown",
   "metadata": {},
   "source": [
    "Programa que verifica se um número é par ou ímpar!"
   ]
  },
  {
   "cell_type": "code",
   "execution_count": 8,
   "metadata": {},
   "outputs": [
    {
     "name": "stdout",
     "output_type": "stream",
     "text": [
      "Digite um número268978\n",
      "268978 é par\n"
     ]
    }
   ],
   "source": [
    "num = int(input('Digite um número: '))\n",
    "resto = num%2\n",
    "if resto == 0:\n",
    "    print('{} é par'.format(num))\n",
    "else:\n",
    "    print('{} é ímpar'.format(num))"
   ]
  },
  {
   "cell_type": "code",
   "execution_count": 6,
   "metadata": {},
   "outputs": [
    {
     "name": "stdout",
     "output_type": "stream",
     "text": [
      "False\n"
     ]
    }
   ],
   "source": [
    "print(5==4)"
   ]
  },
  {
   "cell_type": "code",
   "execution_count": 7,
   "metadata": {},
   "outputs": [
    {
     "name": "stdout",
     "output_type": "stream",
     "text": [
      "True\n"
     ]
    }
   ],
   "source": [
    "print(5==5)"
   ]
  },
  {
   "cell_type": "markdown",
   "metadata": {},
   "source": [
    "# Estruturas Aninhadas"
   ]
  },
  {
   "cell_type": "markdown",
   "metadata": {},
   "source": [
    "Os planos da empresa Tchau são bem interessantes e oferecem preços diferenciados de acordo com a quantidade de minutos usados no mês. Abaixo de 200 minutos, a empresa cobra 0,20 por minuto. Entre 200 e 400 minutos, o preço é de 0,18. Acima de 400 minutos, o preço por minuto é de 0,15."
   ]
  },
  {
   "cell_type": "code",
   "execution_count": null,
   "metadata": {},
   "outputs": [],
   "source": [
    "minutos = int(input('Quantos minutos utilizou no mês: '))\n",
    "if minutos < 200:\n",
    "    preco = minutos*0.2\n",
    "    print('Preço a pagar R$ {}'.format(preco))\n",
    "else:\n",
    "    if minutos >= 400:\n",
    "        preco = minutos*0.15\n",
    "        print('Preço a pagar R$ {}'.format(preco))\n",
    "    else:\n",
    "        preco = minutos*0.18\n",
    "        print('Preço a pagar R$ {}'.format(preco))     \n",
    "    "
   ]
  },
  {
   "cell_type": "markdown",
   "metadata": {},
   "source": [
    "# elif"
   ]
  },
  {
   "cell_type": "code",
   "execution_count": 18,
   "metadata": {},
   "outputs": [
    {
     "name": "stdout",
     "output_type": "stream",
     "text": [
      "Quantos minutos utilizou no mês: 800\n",
      "Preço a pagar R$ 120.0\n"
     ]
    }
   ],
   "source": [
    "minutos = int(input('Quantos minutos utilizou no mês: '))\n",
    "if minutos < 200:\n",
    "    preco = minutos*0.2\n",
    "    print('Preço a pagar R$ {}'.format(preco))\n",
    "elif minutos >= 400:\n",
    "    preco = minutos*0.15\n",
    "    print('Preço a pagar R$ {}'.format(preco))\n",
    "else:\n",
    "    preco = minutos*0.18\n",
    "    print('Preço a pagar R$ {}'.format(preco))"
   ]
  },
  {
   "cell_type": "markdown",
   "metadata": {},
   "source": [
    "# Exercícios 24/09/2018"
   ]
  },
  {
   "cell_type": "markdown",
   "metadata": {},
   "source": [
    "1- Escreva um programa que leia dois números e que pergunte qual operação você deseja realizar. Você pode calcular a soma, subtração, multiplicação e divisão. Exiba o resultado da operação solicitada."
   ]
  },
  {
   "cell_type": "markdown",
   "metadata": {},
   "source": [
    "2- Faça um programa para aprovar um empréstimo bancário para a compra de uma casa. O programa deve perguntar o valor da casa a comprar, o salário e a quantidade de anos a pagar. O valor da prestação mensal não pode ser superior a 30% do salário. Calcule o valor da prestação como sendo o valor da casa a comprar dividido pelo número de meses a pagar"
   ]
  },
  {
   "cell_type": "markdown",
   "metadata": {},
   "source": [
    "3- Faça um programa que calcule a média de um aluno e informar se o mesmo está aprovado, reprovado ou de prova final. Peça para o aluno digitar 3 notas. Em seguida calcule a média aritmética e verifique o status do aluno:\n",
    "Aprovado; se média >= 70\n",
    "Prova Final; se 40 <= média < 70\n",
    "Reprovado; se média < 40"
   ]
  },
  {
   "cell_type": "code",
   "execution_count": null,
   "metadata": {},
   "outputs": [],
   "source": []
  }
 ],
 "metadata": {
  "kernelspec": {
   "display_name": "Python 3",
   "language": "python",
   "name": "python3"
  },
  "language_info": {
   "codemirror_mode": {
    "name": "ipython",
    "version": 3
   },
   "file_extension": ".py",
   "mimetype": "text/x-python",
   "name": "python",
   "nbconvert_exporter": "python",
   "pygments_lexer": "ipython3",
   "version": "3.6.5"
  }
 },
 "nbformat": 4,
 "nbformat_minor": 2
}
